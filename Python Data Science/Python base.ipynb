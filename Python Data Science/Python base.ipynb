{
 "cells": [
  {
   "cell_type": "code",
   "execution_count": 1,
   "metadata": {},
   "outputs": [
    {
     "name": "stdout",
     "output_type": "stream",
     "text": [
      "\"hello world\"\n"
     ]
    }
   ],
   "source": [
    "echo \"hello world\""
   ]
  },
  {
   "cell_type": "code",
   "execution_count": 32,
   "metadata": {},
   "outputs": [
    {
     "name": "stdout",
     "output_type": "stream",
     "text": [
      " Volume in drive C is Windows\n",
      " Volume Serial Number is 0608-4D5C\n",
      "\n",
      " Directory of C:\\\n",
      "\n",
      "11/13/2016  09:10 PM                 0 autoexec.bat\n",
      "06/29/2018  07:38 AM    <DIR>          Intel\n",
      "05/24/2018  03:55 PM    <DIR>          KDubaSoftDownloads\n",
      "02/13/2016  08:16 AM    <DIR>          Logs\n",
      "10/23/2017  04:51 AM    <DIR>          MyDrivers\n",
      "04/11/2018  06:38 PM    <DIR>          PerfLogs\n",
      "09/03/2018  07:22 AM    <DIR>          Program Files\n",
      "11/06/2018  08:52 PM    <DIR>          Program Files (x86)\n",
      "02/07/2018  10:33 AM    <DIR>          Rtools\n",
      "05/01/2018  03:02 PM    <DIR>          superdecision_site\n",
      "11/30/2017  06:38 PM    <DIR>          SWSetup\n",
      "01/17/2018  06:38 PM    <DIR>          texlive\n",
      "11/16/2018  10:18 PM    <DIR>          tmp\n",
      "06/29/2018  07:39 AM    <DIR>          Users\n",
      "09/21/2018  08:00 PM    <DIR>          Windows\n",
      "07/10/2018  10:50 AM    <DIR>          Windows.old\n",
      "10/30/2017  06:43 AM    <DIR>          Windows10Upgrade\n",
      "               1 File(s)              0 bytes\n",
      "              16 Dir(s)  15,545,569,280 bytes free\n"
     ]
    }
   ],
   "source": [
    "ls"
   ]
  },
  {
   "cell_type": "code",
   "execution_count": 4,
   "metadata": {},
   "outputs": [
    {
     "data": {
      "text/plain": [
       "'C:\\\\Users\\\\woshi\\\\Documents\\\\python programming\\\\Base Nov 2018'"
      ]
     },
     "execution_count": 4,
     "metadata": {},
     "output_type": "execute_result"
    }
   ],
   "source": [
    "pwd"
   ]
  },
  {
   "cell_type": "code",
   "execution_count": 5,
   "metadata": {},
   "outputs": [
    {
     "name": "stdout",
     "output_type": "stream",
     "text": [
      "C:\\\n"
     ]
    }
   ],
   "source": [
    "cd /..."
   ]
  },
  {
   "cell_type": "code",
   "execution_count": 6,
   "metadata": {},
   "outputs": [
    {
     "name": "stdout",
     "output_type": "stream",
     "text": [
      " Volume in drive C is Windows\n",
      " Volume Serial Number is 0608-4D5C\n",
      "\n",
      " Directory of C:\\\n",
      "\n",
      "11/13/2016  09:10 PM                 0 autoexec.bat\n",
      "06/29/2018  07:38 AM    <DIR>          Intel\n",
      "05/24/2018  03:55 PM    <DIR>          KDubaSoftDownloads\n",
      "02/13/2016  08:16 AM    <DIR>          Logs\n",
      "10/23/2017  04:51 AM    <DIR>          MyDrivers\n",
      "04/11/2018  06:38 PM    <DIR>          PerfLogs\n",
      "09/03/2018  07:22 AM    <DIR>          Program Files\n",
      "11/06/2018  08:52 PM    <DIR>          Program Files (x86)\n",
      "02/07/2018  10:33 AM    <DIR>          Rtools\n",
      "05/01/2018  03:02 PM    <DIR>          superdecision_site\n",
      "11/30/2017  06:38 PM    <DIR>          SWSetup\n",
      "01/17/2018  06:38 PM    <DIR>          texlive\n",
      "06/29/2018  07:39 AM    <DIR>          Users\n",
      "09/21/2018  08:00 PM    <DIR>          Windows\n",
      "07/10/2018  10:50 AM    <DIR>          Windows.old\n",
      "10/30/2017  06:43 AM    <DIR>          Windows10Upgrade\n",
      "               1 File(s)              0 bytes\n",
      "              15 Dir(s)  15,563,100,160 bytes free\n"
     ]
    }
   ],
   "source": [
    "ls"
   ]
  },
  {
   "cell_type": "raw",
   "metadata": {},
   "source": [
    "message = \"hello from python\""
   ]
  },
  {
   "cell_type": "code",
   "execution_count": 12,
   "metadata": {},
   "outputs": [],
   "source": [
    "mkdir tmp"
   ]
  },
  {
   "cell_type": "code",
   "execution_count": 17,
   "metadata": {},
   "outputs": [
    {
     "name": "stdout",
     "output_type": "stream",
     "text": [
      " Volume in drive C is Windows\n",
      " Volume Serial Number is 0608-4D5C\n",
      "\n",
      " Directory of C:\\tmp\n",
      "\n",
      "11/16/2018  10:18 PM    <DIR>          .\n",
      "11/16/2018  10:18 PM    <DIR>          ..\n",
      "               0 File(s)              0 bytes\n",
      "               2 Dir(s)  15,564,304,384 bytes free\n"
     ]
    }
   ],
   "source": [
    "ls tmp"
   ]
  },
  {
   "cell_type": "code",
   "execution_count": 22,
   "metadata": {},
   "outputs": [],
   "source": [
    "def func1(a,b):\n",
    "   return a/b"
   ]
  },
  {
   "cell_type": "code",
   "execution_count": 24,
   "metadata": {},
   "outputs": [
    {
     "data": {
      "text/plain": [
       "0.3333333333333333"
      ]
     },
     "execution_count": 24,
     "metadata": {},
     "output_type": "execute_result"
    }
   ],
   "source": [
    "func1(1,3)"
   ]
  },
  {
   "cell_type": "code",
   "execution_count": 29,
   "metadata": {},
   "outputs": [],
   "source": [
    "def fun2(x):\n",
    "    a = x\n",
    "    b = x+1\n",
    "    return func1(a,b)"
   ]
  },
  {
   "cell_type": "code",
   "execution_count": 35,
   "metadata": {},
   "outputs": [
    {
     "name": "stdout",
     "output_type": "stream",
     "text": [
      "Wall time: 0 ns\n"
     ]
    },
    {
     "data": {
      "text/plain": [
       "0.75"
      ]
     },
     "execution_count": 35,
     "metadata": {},
     "output_type": "execute_result"
    }
   ],
   "source": [
    "%time fun2(3)"
   ]
  },
  {
   "cell_type": "code",
   "execution_count": 33,
   "metadata": {},
   "outputs": [
    {
     "name": "stdout",
     "output_type": "stream",
     "text": [
      "1.43 µs ± 29.7 ns per loop (mean ± std. dev. of 7 runs, 1000000 loops each)\n"
     ]
    }
   ],
   "source": [
    "%timeit sum(range(100))"
   ]
  }
 ],
 "metadata": {
  "kernelspec": {
   "display_name": "Python 3",
   "language": "python",
   "name": "python3"
  },
  "language_info": {
   "codemirror_mode": {
    "name": "ipython",
    "version": 3
   },
   "file_extension": ".py",
   "mimetype": "text/x-python",
   "name": "python",
   "nbconvert_exporter": "python",
   "pygments_lexer": "ipython3",
   "version": "3.7.0"
  }
 },
 "nbformat": 4,
 "nbformat_minor": 2
}
